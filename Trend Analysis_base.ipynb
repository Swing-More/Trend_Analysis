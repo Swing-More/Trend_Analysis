{
 "cells": [
  {
   "cell_type": "markdown",
   "metadata": {},
   "source": [
    "## **Trend Analysis**"
   ]
  },
  {
   "cell_type": "markdown",
   "metadata": {},
   "source": [
    "We would use two basic packages below,\n",
    "\n",
    "**Guidelines:**\n",
    "\n",
    "- **yahoo finance api** : https://github.com/ranaroussi/yfinance\n",
    "\n",
    "- **Candlestick chart** : https://github.com/matplotlib/mplfinance"
   ]
  },
  {
   "cell_type": "code",
   "execution_count": 5,
   "metadata": {
    "ExecuteTime": {
     "end_time": "2020-11-13T15:45:57.815103Z",
     "start_time": "2020-11-13T15:45:57.807128Z"
    }
   },
   "outputs": [],
   "source": [
    "import yfinance as yf\n",
    "import mplfinance as mpf\n",
    "from pandas_datareader import data as pdr\n",
    "yf.pdr_override()"
   ]
  },
  {
   "cell_type": "code",
   "execution_count": 3,
   "metadata": {
    "ExecuteTime": {
     "end_time": "2020-11-13T15:45:11.827290Z",
     "start_time": "2020-11-13T15:41:15.204628Z"
    }
   },
   "outputs": [
    {
     "name": "stdout",
     "output_type": "stream",
     "text": [
      "[*********************100%***********************]  1 of 1 completed\n"
     ]
    },
    {
     "data": {
      "text/html": [
       "<div>\n",
       "<style scoped>\n",
       "    .dataframe tbody tr th:only-of-type {\n",
       "        vertical-align: middle;\n",
       "    }\n",
       "\n",
       "    .dataframe tbody tr th {\n",
       "        vertical-align: top;\n",
       "    }\n",
       "\n",
       "    .dataframe thead th {\n",
       "        text-align: right;\n",
       "    }\n",
       "</style>\n",
       "<table border=\"1\" class=\"dataframe\">\n",
       "  <thead>\n",
       "    <tr style=\"text-align: right;\">\n",
       "      <th></th>\n",
       "      <th>Open</th>\n",
       "      <th>High</th>\n",
       "      <th>Low</th>\n",
       "      <th>Close</th>\n",
       "      <th>Adj Close</th>\n",
       "      <th>Volume</th>\n",
       "    </tr>\n",
       "    <tr>\n",
       "      <th>Date</th>\n",
       "      <th></th>\n",
       "      <th></th>\n",
       "      <th></th>\n",
       "      <th></th>\n",
       "      <th></th>\n",
       "      <th></th>\n",
       "    </tr>\n",
       "  </thead>\n",
       "  <tbody>\n",
       "    <tr>\n",
       "      <th>2014-12-31</th>\n",
       "      <td>28.205000</td>\n",
       "      <td>28.282499</td>\n",
       "      <td>27.552500</td>\n",
       "      <td>27.594999</td>\n",
       "      <td>24.933533</td>\n",
       "      <td>165613600</td>\n",
       "    </tr>\n",
       "    <tr>\n",
       "      <th>2015-01-02</th>\n",
       "      <td>27.847500</td>\n",
       "      <td>27.860001</td>\n",
       "      <td>26.837500</td>\n",
       "      <td>27.332500</td>\n",
       "      <td>24.696352</td>\n",
       "      <td>212818400</td>\n",
       "    </tr>\n",
       "    <tr>\n",
       "      <th>2015-01-05</th>\n",
       "      <td>27.072500</td>\n",
       "      <td>27.162500</td>\n",
       "      <td>26.352501</td>\n",
       "      <td>26.562500</td>\n",
       "      <td>24.000614</td>\n",
       "      <td>257142000</td>\n",
       "    </tr>\n",
       "    <tr>\n",
       "      <th>2015-01-06</th>\n",
       "      <td>26.635000</td>\n",
       "      <td>26.857500</td>\n",
       "      <td>26.157499</td>\n",
       "      <td>26.565001</td>\n",
       "      <td>24.002876</td>\n",
       "      <td>263188400</td>\n",
       "    </tr>\n",
       "    <tr>\n",
       "      <th>2015-01-07</th>\n",
       "      <td>26.799999</td>\n",
       "      <td>27.049999</td>\n",
       "      <td>26.674999</td>\n",
       "      <td>26.937500</td>\n",
       "      <td>24.339447</td>\n",
       "      <td>160423600</td>\n",
       "    </tr>\n",
       "  </tbody>\n",
       "</table>\n",
       "</div>"
      ],
      "text/plain": [
       "                 Open       High        Low      Close  Adj Close     Volume\n",
       "Date                                                                        \n",
       "2014-12-31  28.205000  28.282499  27.552500  27.594999  24.933533  165613600\n",
       "2015-01-02  27.847500  27.860001  26.837500  27.332500  24.696352  212818400\n",
       "2015-01-05  27.072500  27.162500  26.352501  26.562500  24.000614  257142000\n",
       "2015-01-06  26.635000  26.857500  26.157499  26.565001  24.002876  263188400\n",
       "2015-01-07  26.799999  27.049999  26.674999  26.937500  24.339447  160423600"
      ]
     },
     "execution_count": 3,
     "metadata": {},
     "output_type": "execute_result"
    }
   ],
   "source": [
    "def get_data(stock_code):\n",
    "    data=pdr.get_data_yahoo(tickers=stock_code,\n",
    "                            interval='1d',\n",
    "                            start='2015-01-01',\n",
    "                            end='2020-11-13')\n",
    "    return data\n",
    "# An example, this api could take a little while to fetch the data\n",
    "# JUST BE PATIENT\n",
    "data=get_data('AAPL')\n",
    "data.head()    "
   ]
  },
  {
   "cell_type": "code",
   "execution_count": 59,
   "metadata": {
    "ExecuteTime": {
     "end_time": "2020-11-13T17:47:04.149634Z",
     "start_time": "2020-11-13T17:47:02.169626Z"
    },
    "code_folding": []
   },
   "outputs": [],
   "source": [
    "import numpy as np\n",
    "\n",
    "data1=data.loc['2018-01-01':'2020-11-12']\n",
    "#first we can find the critical points from some calculation\n",
    "#There are 5 randomly choosen points\n",
    "points=['2018-06-12','2019-01-02','2019-04-30','2019-08-05','2020-03-20']\n",
    "\n",
    "seq_of_points=[\n",
    "    [(i,data.loc[i,'High']),('2020-11-12',data.loc[i,'High'])] for i in points\n",
    "] # or Lowest found, just change the argument 'High' to 'Low'\n",
    "\n",
    "# suppose we have 3 critical upward break points and 2 downward break points represents high or low signal\n",
    "\n",
    "points_break_up = ['2018-07-30','2019-02-28','2019-05-02'] #randomly choosen\n",
    "points_break_down = ['2018-08-30','2019-04-15']\n",
    "\n",
    "high_signal=[]\n",
    "low_signal=[]\n",
    "for i in [str(data1.index[j])[0:10] for j in range(len(data1))]:\n",
    "    \n",
    "    if i in points_break_up:\n",
    "        high_signal.append(data1.loc[i,'High']*1.05)\n",
    "    else: high_signal.append(np.nan)\n",
    "    if i in points_break_down:\n",
    "        low_signal.append(data1.loc[i,'Low']*0.95)\n",
    "    else: low_signal.append(np.nan)\n",
    "        \n",
    "\n",
    "\n",
    "apds = [ \n",
    "         mpf.make_addplot(low_signal,type='scatter',markersize=100,marker='^'),\n",
    "         mpf.make_addplot(high_signal,type='scatter',markersize=100,marker='v')\n",
    "       ]\n",
    "\n",
    "\n",
    "#mpf.plot(data1,style='charles',title='\\nAAPL, 2018-2020',mav=(5,10,15),figratio=(25,10),figscale=1.25,\n",
    "#        alines=dict(alines=seq_of_points,colors=['b' for i in range(len(seq_of_points))],linewidths=0.2),\n",
    "#        addplot=apds,volume=True,savefig='AAPL_candle_line.jpg') \n",
    "\n",
    "# if needed, figure could be saved with codes above↑\n",
    "\n",
    "\n",
    "mpf.plot(data1,style='charles',title='\\nAAPL, 2018-2020',mav=(5,10,15),figratio=(25,10),figscale=1.25,\n",
    "        alines=dict(alines=seq_of_points,colors=['b' for i in range(len(seq_of_points))],linewidths=0.2),\n",
    "        addplot=apds,volume=True) \n"
   ]
  },
  {
   "cell_type": "code",
   "execution_count": 51,
   "metadata": {
    "ExecuteTime": {
     "end_time": "2020-11-13T17:32:42.047999Z",
     "start_time": "2020-11-13T17:32:42.037787Z"
    }
   },
   "outputs": [
    {
     "data": {
      "text/plain": [
       "'2018-01-03'"
      ]
     },
     "execution_count": 51,
     "metadata": {},
     "output_type": "execute_result"
    }
   ],
   "source": []
  },
  {
   "cell_type": "code",
   "execution_count": null,
   "metadata": {},
   "outputs": [],
   "source": []
  }
 ],
 "metadata": {
  "kernelspec": {
   "display_name": "Python 3",
   "language": "python",
   "name": "python3"
  },
  "language_info": {
   "codemirror_mode": {
    "name": "ipython",
    "version": 3
   },
   "file_extension": ".py",
   "mimetype": "text/x-python",
   "name": "python",
   "nbconvert_exporter": "python",
   "pygments_lexer": "ipython3",
   "version": "3.8.3"
  },
  "toc": {
   "base_numbering": 1,
   "nav_menu": {},
   "number_sections": true,
   "sideBar": true,
   "skip_h1_title": false,
   "title_cell": "Table of Contents",
   "title_sidebar": "Contents",
   "toc_cell": false,
   "toc_position": {},
   "toc_section_display": true,
   "toc_window_display": false
  },
  "varInspector": {
   "cols": {
    "lenName": 16,
    "lenType": 16,
    "lenVar": 40
   },
   "kernels_config": {
    "python": {
     "delete_cmd_postfix": "",
     "delete_cmd_prefix": "del ",
     "library": "var_list.py",
     "varRefreshCmd": "print(var_dic_list())"
    },
    "r": {
     "delete_cmd_postfix": ") ",
     "delete_cmd_prefix": "rm(",
     "library": "var_list.r",
     "varRefreshCmd": "cat(var_dic_list()) "
    }
   },
   "types_to_exclude": [
    "module",
    "function",
    "builtin_function_or_method",
    "instance",
    "_Feature"
   ],
   "window_display": false
  }
 },
 "nbformat": 4,
 "nbformat_minor": 4
}
